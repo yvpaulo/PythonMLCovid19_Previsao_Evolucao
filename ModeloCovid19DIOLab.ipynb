{
  "nbformat": 4,
  "nbformat_minor": 0,
  "metadata": {
    "colab": {
      "name": "ModeloCovid19DIOLab.ipynb",
      "provenance": [],
      "authorship_tag": "ABX9TyOiwNtZL1rzTD/pgJk+ak2J",
      "include_colab_link": true
    },
    "kernelspec": {
      "name": "python3",
      "display_name": "Python 3"
    }
  },
  "cells": [
    {
      "cell_type": "markdown",
      "metadata": {
        "id": "view-in-github",
        "colab_type": "text"
      },
      "source": [
        "<a href=\"https://colab.research.google.com/github/yvpaulo/PythonMLCovid19_Previsao_Evolucao/blob/main/ModeloCovid19DIOLab.ipynb\" target=\"_parent\"><img src=\"https://colab.research.google.com/assets/colab-badge.svg\" alt=\"Open In Colab\"/></a>"
      ]
    },
    {
      "cell_type": "markdown",
      "metadata": {
        "id": "RZyvV_vZn5qD"
      },
      "source": [
        "# Projeto Covid19\n",
        "##Digital Innovation One"
      ]
    },
    {
      "cell_type": "code",
      "metadata": {
        "id": "19yh6lp3mz8s"
      },
      "source": [
        "import pandas as pd\n",
        "import numpy as np # lib para computação científica\n",
        "from datetime import datetime #para trabalhar com datas\n",
        "import plotly.express as px #para visualização (gráficos)\n",
        "import plotly.graph_objects as go #para gráficos mais complexos"
      ],
      "execution_count": 1,
      "outputs": []
    }
  ]
}